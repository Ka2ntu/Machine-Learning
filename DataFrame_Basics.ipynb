{
  "nbformat": 4,
  "nbformat_minor": 0,
  "metadata": {
    "colab": {
      "provenance": [],
      "authorship_tag": "ABX9TyOwI31o4sTnqeTDP0P6QyOh",
      "include_colab_link": true
    },
    "kernelspec": {
      "name": "python3",
      "display_name": "Python 3"
    },
    "language_info": {
      "name": "python"
    }
  },
  "cells": [
    {
      "cell_type": "markdown",
      "metadata": {
        "id": "view-in-github",
        "colab_type": "text"
      },
      "source": [
        "<a href=\"https://colab.research.google.com/github/Ka2ntu/Machine-Learning/blob/main/DataFrame_Basics.ipynb\" target=\"_parent\"><img src=\"https://colab.research.google.com/assets/colab-badge.svg\" alt=\"Open In Colab\"/></a>"
      ]
    },
    {
      "cell_type": "code",
      "execution_count": null,
      "metadata": {
        "id": "gifHg-GqBSU1"
      },
      "outputs": [],
      "source": []
    },
    {
      "cell_type": "markdown",
      "source": [
        "**Creating DataFrames** \n",
        "\n",
        "This code is creating a 3X 5 Dataframe. \n",
        "The dataframe contains 15 cells\n",
        "\n",
        "\n",
        "*   3 Rows \n",
        "*   5 Colums\n",
        "The rows contain names of Cars and the columns contain their attributes: Make,Color, Type, Model, Year.\n",
        "\n",
        "\n",
        "1.   The first code creates an array\n",
        "2.   List item\n",
        "\n"
      ],
      "metadata": {
        "id": "eQ68SdtaBTZr"
      }
    },
    {
      "cell_type": "code",
      "source": [
        "import numpy as np\n",
        "import pandas as pd\n",
        "\n",
        "\n",
        "\n"
      ],
      "metadata": {
        "id": "hTwqbbBhD8vX"
      },
      "execution_count": null,
      "outputs": []
    },
    {
      "cell_type": "code",
      "source": [
        "#Create and populate a 3x5 numpy array \n",
        "my_data = np.array([     [\"Toyota\",\"Blue\",\"SUV\",\"Prado\",2001],\n",
        "    [\"BMW\", \"Black\",\"SUV\",\"X3\",2006],\n",
        "    [\"Merc\",\"Silver\",\"Sedan\",\"C200\",2020]],dtype=object \n",
        "    )\n",
        "#create column names\n",
        "column_names = ['Make','Color','Type','Model','Year']\n",
        "#Creating dataframe\n",
        "my_df=pd.DataFrame(data=my_data,columns=column_names)\n",
        "print(my_df)\n"
      ],
      "metadata": {
        "colab": {
          "base_uri": "https://localhost:8080/"
        },
        "id": "rOC-9nkdERdP",
        "outputId": "e1cbd497-b53f-487e-dc49-8b5ee71eaedc"
      },
      "execution_count": null,
      "outputs": [
        {
          "output_type": "stream",
          "name": "stdout",
          "text": [
            "     Make   Color   Type  Model  Year\n",
            "0  Toyota    Blue    SUV  Prado  2001\n",
            "1     BMW   Black    SUV     X3  2006\n",
            "2    Merc  Silver  Sedan   C200  2020\n"
          ]
        }
      ]
    },
    {
      "cell_type": "code",
      "source": [
        "#adding new columns to the dataframe and assigning values\n",
        "my_df[\"status\"]=[\"sold\",\"available\",'available']\n",
        "\n",
        "print(my_df)\n"
      ],
      "metadata": {
        "colab": {
          "base_uri": "https://localhost:8080/"
        },
        "id": "J90Ti9AZVSKG",
        "outputId": "e6ac1b43-c9fc-42cc-d3ed-0877cfec4392"
      },
      "execution_count": null,
      "outputs": [
        {
          "output_type": "stream",
          "name": "stdout",
          "text": [
            "     Make   Color   Type  Model  Year     status\n",
            "0  Toyota    Blue    SUV  Prado  2001       sold\n",
            "1     BMW   Black    SUV     X3  2006  available\n",
            "2    Merc  Silver  Sedan   C200  2020  available\n"
          ]
        }
      ]
    },
    {
      "cell_type": "code",
      "source": [
        "#Show specific rows\n",
        "print(\"Vehicles that are available\").m\n",
        "print(my_df[1:3],'\\n')"
      ],
      "metadata": {
        "colab": {
          "base_uri": "https://localhost:8080/"
        },
        "id": "kJSWPY09XCSu",
        "outputId": "2f31d638-6651-4e73-dda0-c29accdcb31e"
      },
      "execution_count": null,
      "outputs": [
        {
          "output_type": "stream",
          "name": "stdout",
          "text": [
            "Vehicles that are available\n",
            "   Make   Color   Type Model  Year     status\n",
            "1   BMW   Black    SUV    X3  2006  available\n",
            "2  Merc  Silver  Sedan  C200  2020  available \n",
            "\n"
          ]
        }
      ]
    }
  ]
}